{
 "cells": [
  {
   "cell_type": "code",
   "execution_count": 87,
   "id": "98b2652f-5f01-4da4-9bc4-5df9b78904cb",
   "metadata": {},
   "outputs": [
    {
     "name": "stdout",
     "output_type": "stream",
     "text": [
      "ABDUL RAFAY / 2022F-BSE-197 / LAB 01 / TASK 01 / PART 01:\n",
      "\n",
      "Random Tensor:\n",
      " [[[0.49175453 0.2235831  0.04950428]\n",
      "  [0.48287165 0.66728425 0.20076346]\n",
      "  [0.2218349  0.9796109  0.06145716]]\n",
      "\n",
      " [[0.07868004 0.26984024 0.33341265]\n",
      "  [0.89354396 0.5530654  0.4443537 ]\n",
      "  [0.09298718 0.80174196 0.44810355]]\n",
      "\n",
      " [[0.82459366 0.10140669 0.41417754]\n",
      "  [0.3959098  0.80535614 0.51828086]\n",
      "  [0.5389807  0.29585636 0.56267905]]]\n",
      "\n",
      "(*): Sum: 11.751634\n",
      "(*): Mean: 0.4352457\n",
      "(*): Max: 0.9796109\n"
     ]
    }
   ],
   "source": [
    "#ABDUL RAFAY / 2022F-BSE-197 / LAB 01 / TASK 01 / PART 01:\n",
    "print(\"ABDUL RAFAY / 2022F-BSE-197 / LAB 01 / TASK 01 / PART 01:\\n\")\n",
    "\n",
    "import tensorflow as tf\n",
    "\n",
    "# Create a 3D tensor with random float values\n",
    "random_tensor = tf.random.uniform(shape=(3, 3, 3), minval=0, maxval=1, dtype=tf.float32)\n",
    "\n",
    "# Calculate the sum, mean, and maximum of the tensor\n",
    "tensor_sum = tf.reduce_sum(random_tensor)\n",
    "tensor_mean = tf.reduce_mean(random_tensor)\n",
    "tensor_max = tf.reduce_max(random_tensor)\n",
    "\n",
    "# Print the results\n",
    "print(\"Random Tensor:\\n\", random_tensor.numpy())\n",
    "print(\"\\n(*): Sum:\", tensor_sum.numpy())\n",
    "print(\"(*): Mean:\", tensor_mean.numpy())\n",
    "print(\"(*): Max:\", tensor_max.numpy())"
   ]
  },
  {
   "cell_type": "code",
   "execution_count": 89,
   "id": "d781a3c5-0930-4063-b78b-2c59f1ac48f0",
   "metadata": {},
   "outputs": [
    {
     "name": "stdout",
     "output_type": "stream",
     "text": [
      "ABDUL RAFAY / 2022F-BSE-197 / LAB 01 / TASK 01 / PART 02:\n",
      "\n",
      "TENSOR:\n",
      " [[[ 1  2  3]\n",
      "  [ 4  5  6]\n",
      "  [ 7  8  9]]\n",
      "\n",
      " [[10 11 12]\n",
      "  [13 14 15]\n",
      "  [16 17 18]]\n",
      "\n",
      " [[19 20 21]\n",
      "  [22 23 24]\n",
      "  [25 26 27]]]\n",
      "\n",
      "(*): Specific Element [1, 2, 1]: 17\n",
      "(*): 2D Slice (First Layer):\n",
      " [[1 2 3]\n",
      " [4 5 6]\n",
      " [7 8 9]]\n",
      "(*): 1D Slice (First Row of Second Layer): [22 23 24]\n"
     ]
    }
   ],
   "source": [
    "#ABDUL RAFAY / 2022F-BSE-197 / LAB 01 / TASK 01 / PART 02:\n",
    "print(\"ABDUL RAFAY / 2022F-BSE-197 / LAB 01 / TASK 01 / PART 02:\\n\")\n",
    "# Create another 3D tensor for slicing\n",
    "tensor_3d = tf.constant([\n",
    "    [[1, 2, 3], [4, 5, 6], [7, 8, 9]],\n",
    "    [[10, 11, 12], [13, 14, 15], [16, 17, 18]],\n",
    "    [[19, 20, 21], [22, 23, 24], [25, 26, 27]]\n",
    "])\n",
    "# Access a specific element (e.g., element at position [1, 2, 1])\n",
    "specific_element = tensor_3d[1, 2, 1]\n",
    "# Access a 2D slice (e.g., slice of the first layer)\n",
    "two_d_slice = tensor_3d[0, :, :]\n",
    "# Access a 1D slice (e.g., first row of the second layer)\n",
    "one_d_slice = tensor_3d[2, 1, :]\n",
    "# Print the accessed elements and slices\n",
    "print(\"TENSOR:\\n\", tensor_3d.numpy())\n",
    "print(\"\\n(*): Specific Element [1, 2, 1]:\", specific_element.numpy())\n",
    "print(\"(*): 2D Slice (First Layer):\\n\", two_d_slice.numpy())\n",
    "print(\"(*): 1D Slice (First Row of Second Layer):\", one_d_slice.numpy())"
   ]
  },
  {
   "cell_type": "code",
   "execution_count": 91,
   "id": "70482874-d886-4cea-84ed-fa46c0a26b2c",
   "metadata": {},
   "outputs": [
    {
     "name": "stdout",
     "output_type": "stream",
     "text": [
      "ABDUL RAFAY / 2022F-BSE-197 / LAB 01 / TASK 02:\n",
      "\n",
      "TENSOR-1: [10. 20. 30.]\n",
      "TENSOR-2: [ 5. 10. 15.]\n",
      "\n",
      "(*): Results of Tensor Operations:\n",
      "Addition: [15. 30. 45.]\n",
      "Subtraction: [ 5. 10. 15.]\n",
      "Multiplication: [ 50. 200. 450.]\n",
      "Division: [2. 2. 2.]\n"
     ]
    }
   ],
   "source": [
    "#ABDUL RAFAY / 2022F-BSE-197 / LAB 01 / TASK 02:\n",
    "print(\"ABDUL RAFAY / 2022F-BSE-197 / LAB 01 / TASK 02:\\n\")\n",
    "import tensorflow as tf\n",
    "# Define the tensor operations function\n",
    "@tf.function\n",
    "def tensor_operations(tensor1, tensor2):\n",
    "    addition = tf.add(tensor1, tensor2)\n",
    "    subtraction = tf.subtract(tensor1, tensor2)\n",
    "    multiplication = tf.multiply(tensor1, tensor2)\n",
    "    division = tf.divide(tensor1, tensor2)\n",
    "    return {\n",
    "        \"addition\": addition,\n",
    "        \"subtraction\": subtraction,\n",
    "        \"multiplication\": multiplication,\n",
    "        \"division\": division\n",
    "    }\n",
    "# Test the function with the provided tensors\n",
    "tensor1 = tf.constant([10, 20, 30], dtype=tf.float32)\n",
    "tensor2 = tf.constant([5, 10, 15], dtype=tf.float32)\n",
    "print(\"TENSOR-1:\", tensor1.numpy())\n",
    "print(\"TENSOR-2:\", tensor2.numpy())\n",
    "# Call the tensor_operations function\n",
    "results = tensor_operations(tensor1, tensor2)\n",
    "# Print the results\n",
    "print(\"\\n(*): Results of Tensor Operations:\")\n",
    "for operation, result in results.items():\n",
    "    print(f\"{operation.capitalize()}: {result.numpy()}\")"
   ]
  },
  {
   "cell_type": "code",
   "execution_count": 93,
   "id": "fa841379-4b9b-4593-9dd8-750cf932251e",
   "metadata": {},
   "outputs": [
    {
     "name": "stdout",
     "output_type": "stream",
     "text": [
      "ABDUL RAFAY / 2022F-BSE-197 / LAB 01 / TASK 03 / PART 01:\n",
      "\n",
      "Random Array: [0.65181291 0.70658413 0.07058608 0.97818902 0.0973632  0.99031098\n",
      " 0.88994738 0.63800224 0.83609015 0.12001561]\n",
      "\n",
      "(*): Sorted Ascending: [0.07058608 0.0973632  0.12001561 0.63800224 0.65181291 0.70658413\n",
      " 0.83609015 0.88994738 0.97818902 0.99031098]\n",
      "\n",
      "(*): Sorted Descending: [0.99031098 0.97818902 0.88994738 0.83609015 0.70658413 0.65181291\n",
      " 0.63800224 0.12001561 0.0973632  0.07058608]\n"
     ]
    }
   ],
   "source": [
    "#ABDUL RAFAY / 2022F-BSE-197 / LAB 01 / TASK 03 / PART 01:\n",
    "print(\"ABDUL RAFAY / 2022F-BSE-197 / LAB 01 / TASK 03 / PART 01:\\n\")\n",
    "import numpy as np\n",
    "# Create a NumPy array with random float values\n",
    "random_array = np.random.rand(10)  # Array of 10 random floats\n",
    "# Sort the array in ascending order\n",
    "sorted_ascending = np.sort(random_array)\n",
    "# Sort the array in descending order\n",
    "sorted_descending = sorted_ascending[::-1]  # Reverse the sorted array\n",
    "# Print the results\n",
    "print(\"Random Array:\", random_array)\n",
    "print(\"\\n(*): Sorted Ascending:\", sorted_ascending)\n",
    "print(\"\\n(*): Sorted Descending:\", sorted_descending)"
   ]
  },
  {
   "cell_type": "code",
   "execution_count": 97,
   "id": "a315b2b5-86c6-4ad8-bacb-2c275ddbd2db",
   "metadata": {},
   "outputs": [
    {
     "name": "stdout",
     "output_type": "stream",
     "text": [
      "ABDUL RAFAY / 2022F-BSE-197 / LAB 01 / TASK 03 / PART 02:\n",
      "\n",
      "2x2 Matrix:\n",
      " [[1 9]\n",
      " [7 4]]\n",
      "\n",
      "(*): Transpose of Matrix:\n",
      " [[1 7]\n",
      " [9 4]]\n",
      "\n",
      "(*): Inverse of Matrix:\n",
      " [[-0.06779661  0.15254237]\n",
      " [ 0.11864407 -0.01694915]]\n"
     ]
    }
   ],
   "source": [
    "#ABDUL RAFAY / 2022F-BSE-197 / LAB 01 / TASK 03 / PART 02:\n",
    "print(\"ABDUL RAFAY / 2022F-BSE-197 / LAB 01 / TASK 03 / PART 02:\\n\")\n",
    "# Create a 2x2 NumPy matrix\n",
    "matrix_2x2 = np.array([[1, 9], [7, 4]])\n",
    "# Calculate its transpose\n",
    "matrix_transpose = np.transpose(matrix_2x2)\n",
    "# Calculate its inverse\n",
    "matrix_inverse = np.linalg.inv(matrix_2x2)\n",
    "# Print the results\n",
    "print(\"2x2 Matrix:\\n\", matrix_2x2)\n",
    "print(\"\\n(*): Transpose of Matrix:\\n\", matrix_transpose)\n",
    "print(\"\\n(*): Inverse of Matrix:\\n\", matrix_inverse)"
   ]
  },
  {
   "cell_type": "code",
   "execution_count": 99,
   "id": "79951cfb-5a55-41bc-aedf-e893bad7c36c",
   "metadata": {},
   "outputs": [
    {
     "name": "stdout",
     "output_type": "stream",
     "text": [
      "ABDUL RAFAY / 2022F-BSE-197 / LAB 01 / TASK 03 / PART 03:\n",
      "\n",
      "2D Array:\n",
      " [[1 2 3]\n",
      " [4 5 6]\n",
      " [7 8 9]]\n",
      "\n",
      "(*): Sum of Each Row: [ 6 15 24]\n",
      "(*): Mean of Each Column: [4. 5. 6.]\n",
      "(*): Standard Deviation of the Entire Array: 2.581988897471611\n"
     ]
    }
   ],
   "source": [
    "#ABDUL RAFAY / 2022F-BSE-197 / LAB 01 / TASK 03 / PART 03:\n",
    "print(\"ABDUL RAFAY / 2022F-BSE-197 / LAB 01 / TASK 03 / PART 03:\\n\")\n",
    "# Create a 2D NumPy array\n",
    "array_2d = np.array([[1, 2, 3], [4, 5, 6], [7, 8, 9]])\n",
    "# Calculate the sum of each row\n",
    "row_sums = np.sum(array_2d, axis=1)\n",
    "# Calculate the mean of each column\n",
    "column_means = np.mean(array_2d, axis=0)\n",
    "# Calculate the standard deviation of the entire array\n",
    "std_deviation = np.std(array_2d)\n",
    "# Print the results\n",
    "print(\"2D Array:\\n\", array_2d)\n",
    "print(\"\\n(*): Sum of Each Row:\", row_sums)\n",
    "print(\"(*): Mean of Each Column:\", column_means)\n",
    "print(\"(*): Standard Deviation of the Entire Array:\", std_deviation)"
   ]
  },
  {
   "cell_type": "code",
   "execution_count": null,
   "id": "2701e5f1-ef11-461d-a31c-50063a130887",
   "metadata": {},
   "outputs": [],
   "source": []
  }
 ],
 "metadata": {
  "kernelspec": {
   "display_name": "Python 3 (ipykernel)",
   "language": "python",
   "name": "python3"
  },
  "language_info": {
   "codemirror_mode": {
    "name": "ipython",
    "version": 3
   },
   "file_extension": ".py",
   "mimetype": "text/x-python",
   "name": "python",
   "nbconvert_exporter": "python",
   "pygments_lexer": "ipython3",
   "version": "3.12.7"
  }
 },
 "nbformat": 4,
 "nbformat_minor": 5
}
